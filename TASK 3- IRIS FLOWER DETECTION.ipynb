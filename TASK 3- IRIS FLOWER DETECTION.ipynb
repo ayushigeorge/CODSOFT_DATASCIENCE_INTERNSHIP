{
 "cells": [
  {
   "cell_type": "markdown",
   "id": "8899be82",
   "metadata": {},
   "source": [
    "# CODSOFT DATA SCIENCE INTERNSHIP "
   ]
  },
  {
   "cell_type": "markdown",
   "id": "a6edc58d",
   "metadata": {},
   "source": [
    "# TASK 3: IRIS FLOWER DETECTION"
   ]
  },
  {
   "cell_type": "markdown",
   "id": "41d145ea",
   "metadata": {},
   "source": [
    "# BY AYUSHI GEORGE"
   ]
  },
  {
   "cell_type": "code",
   "execution_count": 3,
   "id": "d51dfe49",
   "metadata": {},
   "outputs": [],
   "source": [
    "import pandas as pd\n",
    "from sklearn.model_selection import train_test_split\n",
    "from sklearn.neighbors import KNeighborsClassifier\n",
    "from sklearn.metrics import accuracy_score"
   ]
  },
  {
   "cell_type": "markdown",
   "id": "c0f02683",
   "metadata": {},
   "source": [
    "## Load the Iris flower dataset"
   ]
  },
  {
   "cell_type": "code",
   "execution_count": 4,
   "id": "f2ef23ec",
   "metadata": {},
   "outputs": [],
   "source": [
    "df = pd.read_csv('IRIS.csv')"
   ]
  },
  {
   "cell_type": "markdown",
   "id": "bb5286dd",
   "metadata": {},
   "source": [
    "## Split the dataset into features (measurements) and labels (species)"
   ]
  },
  {
   "cell_type": "code",
   "execution_count": 5,
   "id": "1c7a9428",
   "metadata": {},
   "outputs": [],
   "source": [
    "X = df.drop('species', axis=1)\n",
    "y = df['species']"
   ]
  },
  {
   "cell_type": "markdown",
   "id": "bc7b6853",
   "metadata": {},
   "source": [
    "## Split the dataset into training and testing sets"
   ]
  },
  {
   "cell_type": "code",
   "execution_count": 6,
   "id": "e4af0fd7",
   "metadata": {},
   "outputs": [],
   "source": [
    "X_train, X_test, y_train, y_test = train_test_split(X, y, test_size=0.2, random_state=42)"
   ]
  },
  {
   "cell_type": "markdown",
   "id": "593d9c73",
   "metadata": {},
   "source": [
    "## Train a K-Nearest Neighbors classifier on the training data"
   ]
  },
  {
   "cell_type": "code",
   "execution_count": 7,
   "id": "e87dbcd1",
   "metadata": {},
   "outputs": [
    {
     "data": {
      "text/plain": [
       "KNeighborsClassifier(n_neighbors=3)"
      ]
     },
     "execution_count": 7,
     "metadata": {},
     "output_type": "execute_result"
    }
   ],
   "source": [
    "classifier = KNeighborsClassifier(n_neighbors=3)\n",
    "classifier.fit(X_train, y_train)"
   ]
  },
  {
   "cell_type": "markdown",
   "id": "5416d066",
   "metadata": {},
   "source": [
    "## Predict the species for the test data"
   ]
  },
  {
   "cell_type": "code",
   "execution_count": 8,
   "id": "26d2be9f",
   "metadata": {},
   "outputs": [],
   "source": [
    "y_pred = classifier.predict(X_test)"
   ]
  },
  {
   "cell_type": "markdown",
   "id": "9fc26ef9",
   "metadata": {},
   "source": [
    "## Calculate accuracy of the model"
   ]
  },
  {
   "cell_type": "code",
   "execution_count": 9,
   "id": "481707b9",
   "metadata": {},
   "outputs": [
    {
     "name": "stdout",
     "output_type": "stream",
     "text": [
      "Accuracy: 1.0\n"
     ]
    }
   ],
   "source": [
    "accuracy = accuracy_score(y_test, y_pred)\n",
    "print('Accuracy:', accuracy)"
   ]
  },
  {
   "cell_type": "markdown",
   "id": "9bc4139b",
   "metadata": {},
   "source": [
    "# Thank you"
   ]
  },
  {
   "cell_type": "code",
   "execution_count": null,
   "id": "dfc58eb8",
   "metadata": {},
   "outputs": [],
   "source": []
  }
 ],
 "metadata": {
  "kernelspec": {
   "display_name": "Python 3 (ipykernel)",
   "language": "python",
   "name": "python3"
  },
  "language_info": {
   "codemirror_mode": {
    "name": "ipython",
    "version": 3
   },
   "file_extension": ".py",
   "mimetype": "text/x-python",
   "name": "python",
   "nbconvert_exporter": "python",
   "pygments_lexer": "ipython3",
   "version": "3.9.7"
  }
 },
 "nbformat": 4,
 "nbformat_minor": 5
}
